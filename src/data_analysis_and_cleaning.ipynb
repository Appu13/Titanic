{
  "nbformat": 4,
  "nbformat_minor": 0,
  "metadata": {
    "language_info": {
      "codemirror_mode": {
        "name": "ipython",
        "version": 3
      },
      "file_extension": ".py",
      "mimetype": "text/x-python",
      "name": "python",
      "nbconvert_exporter": "python",
      "pygments_lexer": "ipython3",
      "version": "3.8.1"
    },
    "orig_nbformat": 4,
    "kernelspec": {
      "name": "python3",
      "display_name": "Python 3.8.1 64-bit"
    },
    "interpreter": {
      "hash": "50a4a6134d69c31c8facd0dd60ed81199b8d36685bb5ce22b5abc1c945ce8004"
    },
    "colab": {
      "name": "data analysis and cleaning.ipynb",
      "provenance": [],
      "collapsed_sections": [],
      "toc_visible": true
    }
  },
  "cells": [
    {
      "cell_type": "code",
      "metadata": {
        "id": "NVRwkesPSaui"
      },
      "source": [
        "# Importing all the needed libraries\n",
        "import pandas as pd"
      ],
      "execution_count": 1,
      "outputs": []
    },
    {
      "cell_type": "code",
      "metadata": {
        "id": "K-BUGLGySauw"
      },
      "source": [
        "# Rading \n",
        "data = pd.read_csv(r\"E:\\Projects\\kaggle comp\\data\\train.csv\")"
      ],
      "execution_count": 10,
      "outputs": []
    },
    {
      "cell_type": "code",
      "metadata": {
        "colab": {
          "base_uri": "https://localhost:8080/",
          "height": 527
        },
        "id": "BQwyy2n6Sauy",
        "outputId": "e9d830ca-485a-41dc-d5da-0250aeac2608"
      },
      "source": [
        "#data.head\n",
        "#data.shape\n",
        "data.info()\n",
        "data.describe()\n",
        "data.head()"
      ],
      "execution_count": 11,
      "outputs": [
        {
          "output_type": "stream",
          "name": "stdout",
          "text": [
            "<class 'pandas.core.frame.DataFrame'>\nRangeIndex: 891 entries, 0 to 890\nData columns (total 12 columns):\n #   Column       Non-Null Count  Dtype  \n---  ------       --------------  -----  \n 0   PassengerId  891 non-null    int64  \n 1   Survived     891 non-null    int64  \n 2   Pclass       891 non-null    int64  \n 3   Name         891 non-null    object \n 4   Sex          891 non-null    object \n 5   Age          714 non-null    float64\n 6   SibSp        891 non-null    int64  \n 7   Parch        891 non-null    int64  \n 8   Ticket       891 non-null    object \n 9   Fare         891 non-null    float64\n 10  Cabin        204 non-null    object \n 11  Embarked     889 non-null    object \ndtypes: float64(2), int64(5), object(5)\nmemory usage: 83.7+ KB\n"
          ]
        },
        {
          "output_type": "execute_result",
          "data": {
            "text/plain": [
              "   PassengerId  Survived  Pclass  \\\n",
              "0            1         0       3   \n",
              "1            2         1       1   \n",
              "2            3         1       3   \n",
              "3            4         1       1   \n",
              "4            5         0       3   \n",
              "\n",
              "                                                Name     Sex   Age  SibSp  \\\n",
              "0                            Braund, Mr. Owen Harris    male  22.0      1   \n",
              "1  Cumings, Mrs. John Bradley (Florence Briggs Th...  female  38.0      1   \n",
              "2                             Heikkinen, Miss. Laina  female  26.0      0   \n",
              "3       Futrelle, Mrs. Jacques Heath (Lily May Peel)  female  35.0      1   \n",
              "4                           Allen, Mr. William Henry    male  35.0      0   \n",
              "\n",
              "   Parch            Ticket     Fare Cabin Embarked  \n",
              "0      0         A/5 21171   7.2500   NaN        S  \n",
              "1      0          PC 17599  71.2833   C85        C  \n",
              "2      0  STON/O2. 3101282   7.9250   NaN        S  \n",
              "3      0            113803  53.1000  C123        S  \n",
              "4      0            373450   8.0500   NaN        S  "
            ],
            "text/html": "<div>\n<style scoped>\n    .dataframe tbody tr th:only-of-type {\n        vertical-align: middle;\n    }\n\n    .dataframe tbody tr th {\n        vertical-align: top;\n    }\n\n    .dataframe thead th {\n        text-align: right;\n    }\n</style>\n<table border=\"1\" class=\"dataframe\">\n  <thead>\n    <tr style=\"text-align: right;\">\n      <th></th>\n      <th>PassengerId</th>\n      <th>Survived</th>\n      <th>Pclass</th>\n      <th>Name</th>\n      <th>Sex</th>\n      <th>Age</th>\n      <th>SibSp</th>\n      <th>Parch</th>\n      <th>Ticket</th>\n      <th>Fare</th>\n      <th>Cabin</th>\n      <th>Embarked</th>\n    </tr>\n  </thead>\n  <tbody>\n    <tr>\n      <th>0</th>\n      <td>1</td>\n      <td>0</td>\n      <td>3</td>\n      <td>Braund, Mr. Owen Harris</td>\n      <td>male</td>\n      <td>22.0</td>\n      <td>1</td>\n      <td>0</td>\n      <td>A/5 21171</td>\n      <td>7.2500</td>\n      <td>NaN</td>\n      <td>S</td>\n    </tr>\n    <tr>\n      <th>1</th>\n      <td>2</td>\n      <td>1</td>\n      <td>1</td>\n      <td>Cumings, Mrs. John Bradley (Florence Briggs Th...</td>\n      <td>female</td>\n      <td>38.0</td>\n      <td>1</td>\n      <td>0</td>\n      <td>PC 17599</td>\n      <td>71.2833</td>\n      <td>C85</td>\n      <td>C</td>\n    </tr>\n    <tr>\n      <th>2</th>\n      <td>3</td>\n      <td>1</td>\n      <td>3</td>\n      <td>Heikkinen, Miss. Laina</td>\n      <td>female</td>\n      <td>26.0</td>\n      <td>0</td>\n      <td>0</td>\n      <td>STON/O2. 3101282</td>\n      <td>7.9250</td>\n      <td>NaN</td>\n      <td>S</td>\n    </tr>\n    <tr>\n      <th>3</th>\n      <td>4</td>\n      <td>1</td>\n      <td>1</td>\n      <td>Futrelle, Mrs. Jacques Heath (Lily May Peel)</td>\n      <td>female</td>\n      <td>35.0</td>\n      <td>1</td>\n      <td>0</td>\n      <td>113803</td>\n      <td>53.1000</td>\n      <td>C123</td>\n      <td>S</td>\n    </tr>\n    <tr>\n      <th>4</th>\n      <td>5</td>\n      <td>0</td>\n      <td>3</td>\n      <td>Allen, Mr. William Henry</td>\n      <td>male</td>\n      <td>35.0</td>\n      <td>0</td>\n      <td>0</td>\n      <td>373450</td>\n      <td>8.0500</td>\n      <td>NaN</td>\n      <td>S</td>\n    </tr>\n  </tbody>\n</table>\n</div>"
          },
          "metadata": {},
          "execution_count": 11
        }
      ]
    },
    {
      "cell_type": "code",
      "metadata": {
        "colab": {
          "base_uri": "https://localhost:8080/"
        },
        "id": "miz71KmDSau3",
        "outputId": "5c40e0a9-b4e9-42b1-fcb3-14c683ca20b7"
      },
      "source": [
        "#dealing with missing values for age\n",
        "mrs_data = data.loc[(data[\"Sex\"] == \"female\") & (data.Name.str.contains(\"Mrs\"))]\n",
        "# mrs_data.describe()\n",
        "\n",
        "# Visualizing the age distribution\n",
        "#mrs_data.Age.hist()\n",
        "#mrs_data.Age.plot(kind = \"kde\")\n",
        "\n",
        "#Based on the distribution we can choose the mean as a measure of our central tendency\n",
        "mrs_data['Age'].fillna(int(mrs_data['Age'].mean()),inplace = True)\n",
        "mrs_data.info()"
      ],
      "execution_count": 12,
      "outputs": [
        {
          "output_type": "stream",
          "name": "stdout",
          "text": [
            "<class 'pandas.core.frame.DataFrame'>\n",
            "Int64Index: 129 entries, 1 to 885\n",
            "Data columns (total 12 columns):\n",
            " #   Column       Non-Null Count  Dtype  \n",
            "---  ------       --------------  -----  \n",
            " 0   PassengerId  129 non-null    int64  \n",
            " 1   Survived     129 non-null    int64  \n",
            " 2   Pclass       129 non-null    int64  \n",
            " 3   Name         129 non-null    object \n",
            " 4   Sex          129 non-null    object \n",
            " 5   Age          129 non-null    float64\n",
            " 6   SibSp        129 non-null    int64  \n",
            " 7   Parch        129 non-null    int64  \n",
            " 8   Ticket       129 non-null    object \n",
            " 9   Fare         129 non-null    float64\n",
            " 10  Cabin        46 non-null     object \n",
            " 11  Embarked     128 non-null    object \n",
            "dtypes: float64(2), int64(5), object(5)\n",
            "memory usage: 13.1+ KB\n",
            "C:\\Users\\Vishal\\AppData\\Local\\Programs\\Python\\Python38\\lib\\site-packages\\pandas\\core\\series.py:4463: SettingWithCopyWarning: \n",
            "A value is trying to be set on a copy of a slice from a DataFrame\n",
            "\n",
            "See the caveats in the documentation: https://pandas.pydata.org/pandas-docs/stable/user_guide/indexing.html#returning-a-view-versus-a-copy\n",
            "  return super().fillna(\n"
          ]
        }
      ]
    },
    {
      "cell_type": "code",
      "metadata": {
        "colab": {
          "base_uri": "https://localhost:8080/"
        },
        "id": "DfGIKIftSau5",
        "outputId": "d0518e18-7cec-46ad-d2f1-f820240f1fde"
      },
      "source": [
        "mr_data = data.loc[(data[\"Sex\"] == \"male\") & (data.Name.str.contains(\"Mr\"))]\n",
        "\n",
        "\n",
        "# Visualzing the distribution of age\n",
        "#mr_data.Age.plot(kind = 'kde')\n",
        "#mr_data.Age.hist()\n",
        "mr_data['Age'].fillna(int(mr_data['Age'].mean()),inplace = True)\n",
        "mr_data.info()\n"
      ],
      "execution_count": 13,
      "outputs": [
        {
          "output_type": "stream",
          "name": "stdout",
          "text": [
            "<class 'pandas.core.frame.DataFrame'>\n",
            "Int64Index: 518 entries, 0 to 890\n",
            "Data columns (total 12 columns):\n",
            " #   Column       Non-Null Count  Dtype  \n",
            "---  ------       --------------  -----  \n",
            " 0   PassengerId  518 non-null    int64  \n",
            " 1   Survived     518 non-null    int64  \n",
            " 2   Pclass       518 non-null    int64  \n",
            " 3   Name         518 non-null    object \n",
            " 4   Sex          518 non-null    object \n",
            " 5   Age          518 non-null    float64\n",
            " 6   SibSp        518 non-null    int64  \n",
            " 7   Parch        518 non-null    int64  \n",
            " 8   Ticket       518 non-null    object \n",
            " 9   Fare         518 non-null    float64\n",
            " 10  Cabin        94 non-null     object \n",
            " 11  Embarked     518 non-null    object \n",
            "dtypes: float64(2), int64(5), object(5)\n",
            "memory usage: 52.6+ KB\n",
            "C:\\Users\\Vishal\\AppData\\Local\\Programs\\Python\\Python38\\lib\\site-packages\\pandas\\core\\series.py:4463: SettingWithCopyWarning: \n",
            "A value is trying to be set on a copy of a slice from a DataFrame\n",
            "\n",
            "See the caveats in the documentation: https://pandas.pydata.org/pandas-docs/stable/user_guide/indexing.html#returning-a-view-versus-a-copy\n",
            "  return super().fillna(\n"
          ]
        }
      ]
    },
    {
      "cell_type": "code",
      "metadata": {
        "colab": {
          "base_uri": "https://localhost:8080/"
        },
        "id": "FL3BKGUHSau6",
        "outputId": "4b8ddc50-1131-406f-ddc3-6f1a39bbcf73"
      },
      "source": [
        "# Get the data which are not in the other two data frames\n",
        "lst = [mr_data, mrs_data]\n",
        "sdata = pd.concat(lst)\n",
        "sdata.info()"
      ],
      "execution_count": 14,
      "outputs": [
        {
          "output_type": "stream",
          "name": "stdout",
          "text": [
            "<class 'pandas.core.frame.DataFrame'>\nInt64Index: 647 entries, 0 to 885\nData columns (total 12 columns):\n #   Column       Non-Null Count  Dtype  \n---  ------       --------------  -----  \n 0   PassengerId  647 non-null    int64  \n 1   Survived     647 non-null    int64  \n 2   Pclass       647 non-null    int64  \n 3   Name         647 non-null    object \n 4   Sex          647 non-null    object \n 5   Age          647 non-null    float64\n 6   SibSp        647 non-null    int64  \n 7   Parch        647 non-null    int64  \n 8   Ticket       647 non-null    object \n 9   Fare         647 non-null    float64\n 10  Cabin        140 non-null    object \n 11  Embarked     646 non-null    object \ndtypes: float64(2), int64(5), object(5)\nmemory usage: 65.7+ KB\n"
          ]
        }
      ]
    },
    {
      "cell_type": "code",
      "metadata": {
        "colab": {
          "base_uri": "https://localhost:8080/"
        },
        "id": "Ys7wOL6xSau8",
        "outputId": "67c38cc6-8739-4da6-b7a6-360ae9f94562"
      },
      "source": [
        "common = data.merge(sdata, on=[\"PassengerId\"])\n",
        "result = data[~data.PassengerId.isin(common.PassengerId)]\n",
        "#result.Age.plot(kind = \"kde\")\n",
        "\n",
        "result['Age'].fillna(int(result['Age'].mean()), inplace = True)\n",
        "result.info()\n"
      ],
      "execution_count": 15,
      "outputs": [
        {
          "output_type": "stream",
          "name": "stdout",
          "text": [
            "<class 'pandas.core.frame.DataFrame'>\nInt64Index: 244 entries, 2 to 888\nData columns (total 12 columns):\n #   Column       Non-Null Count  Dtype  \n---  ------       --------------  -----  \n 0   PassengerId  244 non-null    int64  \n 1   Survived     244 non-null    int64  \n 2   Pclass       244 non-null    int64  \n 3   Name         244 non-null    object \n 4   Sex          244 non-null    object \n 5   Age          244 non-null    float64\n 6   SibSp        244 non-null    int64  \n 7   Parch        244 non-null    int64  \n 8   Ticket       244 non-null    object \n 9   Fare         244 non-null    float64\n 10  Cabin        64 non-null     object \n 11  Embarked     243 non-null    object \ndtypes: float64(2), int64(5), object(5)\nmemory usage: 24.8+ KB\n"
          ]
        }
      ]
    },
    {
      "cell_type": "code",
      "metadata": {
        "id": "HMkLjGL0X0uu"
      },
      "source": [
        "# lst = [mrs_data,mr_data,result]\n",
        "# age_crct_data= pd.concat(lst)\n",
        "# age_crct_data.info()\n",
        "\n",
        "age_crct_data.to_csv('clean-data.csv',index = False)\n",
        "\n"
      ],
      "execution_count": 17,
      "outputs": []
    },
    {
      "cell_type": "markdown",
      "metadata": {
        "id": "PoX80mu6ZISO"
      },
      "source": [
        "# New section"
      ]
    },
    {
      "cell_type": "markdown",
      "metadata": {
        "id": "8T1fNFIHYc0E"
      },
      "source": [
        "# New section"
      ]
    }
  ]
}